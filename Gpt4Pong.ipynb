{
 "cells": [
  {
   "cell_type": "code",
   "execution_count": 29,
   "metadata": {},
   "outputs": [
    {
     "name": "stdout",
     "output_type": "stream",
     "text": [
      "Using device: cpu\n"
     ]
    }
   ],
   "source": [
    "import os\n",
    "import torch\n",
    "import torch.nn as nn\n",
    "import torch.optim as optim\n",
    "from torch.utils.data import Dataset, DataLoader\n",
    "import pandas as pd\n",
    "from torch.autograd import Variable\n",
    "\n",
    "# Define the custom dataset class\n",
    "class PaddleDataset(Dataset):\n",
    "    def __init__(self, data):\n",
    "        self.data = data\n",
    "\n",
    "    def __len__(self):\n",
    "        return len(self.data)\n",
    "\n",
    "    def __getitem__(self, idx):\n",
    "        features = torch.tensor(self.data.iloc[idx, :8], dtype=torch.float32)\n",
    "        label = torch.tensor(self.data.iloc[idx, 8:13].values, dtype=torch.float32)\n",
    "        return features, label\n",
    "\n",
    "# Define the neural network model\n",
    "class PaddleClassifier(nn.Module):\n",
    "    def __init__(self):\n",
    "        super(PaddleClassifier, self).__init__()\n",
    "        self.fc1 = nn.Linear(8, 32)\n",
    "        self.fc2 = nn.Linear(32, 5)\n",
    "\n",
    "    def forward(self, x):\n",
    "        x = torch.relu(self.fc1(x))\n",
    "        x = self.fc2(x)\n",
    "        return x\n",
    "\n",
    "# Set the device to CUDA if available\n",
    "device = torch.device(\"cuda\" if torch.cuda.is_available() else \"cpu\")\n",
    "print(f\"Using device: {device}\")"
   ]
  },
  {
   "cell_type": "code",
   "execution_count": 30,
   "metadata": {},
   "outputs": [
    {
     "name": "stdout",
     "output_type": "stream",
     "text": [
      "(tensor([-0.0800,  0.5166, -0.1400,  3.0000,  0.6613, -0.2327,  1.0667,  3.1500]), tensor([0., 0., 1., 0., 0.]))\n"
     ]
    }
   ],
   "source": [
    "# Load the data\n",
    "data = pd.read_csv(\"TrainingDataReorg.tsv\", sep=\"\\t\")\n",
    "train_dataset = PaddleDataset(data)\n",
    "train_dataloader = DataLoader(train_dataset, batch_size=32, shuffle=True)\n",
    "\n",
    "print(train_dataset[12])"
   ]
  },
  {
   "cell_type": "code",
   "execution_count": 32,
   "metadata": {},
   "outputs": [],
   "source": [
    "# Initialize the model, loss function, and optimizer\n",
    "model = PaddleClassifier().to(device)\n",
    "criterion = nn.MSELoss();\n",
    "optimizer = optim.Adam(model.parameters(), lr=0.0001)\n",
    "\n",
    "model_path = \"paddle_classifier.pth\"\n",
    "onnx_path = \"paddle_classifier.onnx\"\n",
    "\n",
    "# Load the model from disk if it exists\n",
    "if os.path.isfile(model_path):\n",
    "    model.load_state_dict(torch.load(model_path))\n",
    "    model.to(device)\n",
    "    print(\"Model loaded from disk\")"
   ]
  },
  {
   "cell_type": "code",
   "execution_count": 33,
   "metadata": {},
   "outputs": [
    {
     "name": "stdout",
     "output_type": "stream",
     "text": [
      "Epoch [1/30], Loss: 0.1363\n",
      "Epoch [2/30], Loss: 0.0517\n",
      "Epoch [3/30], Loss: 0.0916\n",
      "Epoch [4/30], Loss: 0.0644\n",
      "Epoch [5/30], Loss: 0.0171\n",
      "Epoch [6/30], Loss: 0.0283\n",
      "Epoch [7/30], Loss: 0.0135\n",
      "Epoch [8/30], Loss: 0.0978\n",
      "Epoch [9/30], Loss: 0.0273\n",
      "Epoch [10/30], Loss: 0.0525\n",
      "Epoch [11/30], Loss: 0.0420\n",
      "Epoch [12/30], Loss: 0.0915\n",
      "Epoch [13/30], Loss: 0.0765\n",
      "Epoch [14/30], Loss: 0.1017\n",
      "Epoch [15/30], Loss: 0.1963\n",
      "Epoch [16/30], Loss: 0.1398\n",
      "Epoch [17/30], Loss: 0.0437\n",
      "Epoch [18/30], Loss: 0.1648\n",
      "Epoch [19/30], Loss: 0.0592\n",
      "Epoch [20/30], Loss: 0.0772\n",
      "Epoch [21/30], Loss: 0.0859\n",
      "Epoch [22/30], Loss: 0.0987\n",
      "Epoch [23/30], Loss: 0.1685\n",
      "Epoch [24/30], Loss: 0.0094\n",
      "Epoch [25/30], Loss: 0.0761\n",
      "Epoch [26/30], Loss: 0.1467\n",
      "Epoch [27/30], Loss: 0.0696\n",
      "Epoch [28/30], Loss: 0.1201\n",
      "Epoch [29/30], Loss: 0.0180\n",
      "Epoch [30/30], Loss: 0.0112\n",
      "Training complete\n"
     ]
    }
   ],
   "source": [
    "# Train the model\n",
    "epochs = 30\n",
    "for epoch in range(epochs):\n",
    "    for inputs, labels in train_dataloader:\n",
    "        inputs, labels = inputs.to(device), labels.to(device)\n",
    "        optimizer.zero_grad()\n",
    "        \n",
    "        outputs = model(inputs)\n",
    "        loss = criterion(outputs, labels)\n",
    "        loss.backward()\n",
    "        optimizer.step()\n",
    "\n",
    "    # if (epoch + 1) % 10 == 0:\n",
    "    print(f\"Epoch [{epoch + 1}/{epochs}], Loss: {loss.item():.4f}\")\n",
    "\n",
    "print(\"Training complete\")"
   ]
  },
  {
   "cell_type": "code",
   "execution_count": 34,
   "metadata": {},
   "outputs": [
    {
     "name": "stdout",
     "output_type": "stream",
     "text": [
      "Model saved to paddle_classifier.pth\n",
      "ONNX model saved to paddle_classifier.onnx\n"
     ]
    }
   ],
   "source": [
    "# Save the trained model to disk\n",
    "torch.save(model.state_dict(), model_path)\n",
    "print(f\"Model saved to {model_path}\")\n",
    "\n",
    "# Move the model back to CPU before exporting to ONNX\n",
    "model.to(\"cpu\")\n",
    "\n",
    "# Export the model to ONNX format\n",
    "dummy_input = Variable(torch.randn(1, 8))\n",
    "torch.onnx.export(model, dummy_input, onnx_path, verbose=True, input_names=[\"input\"], output_names=[\"output\"])\n",
    "\n",
    "# Check the ONNX model\n",
    "#onnx_model = torch.onnx.load(onnx_path)\n",
    "#onnx.checker.check_model(onnx_model)\n",
    "print(f\"ONNX model saved to {onnx_path}\")"
   ]
  },
  {
   "cell_type": "code",
   "execution_count": 35,
   "metadata": {},
   "outputs": [
    {
     "name": "stdout",
     "output_type": "stream",
     "text": [
      "Probabilities: [0.01453722 0.00663264 0.9607708  0.0099114  0.00814788]\n",
      "Predicted class index: 2\n",
      "Predicted class label: MyPaddleIsStill\n"
     ]
    }
   ],
   "source": [
    "#test model with set inputs\n",
    "import numpy as np\n",
    "\n",
    "def predict(model, input_data):\n",
    "    model.eval()\n",
    "    with torch.no_grad():\n",
    "        input_tensor = torch.tensor(input_data, dtype=torch.float32).to(device)\n",
    "        output = model(input_tensor)\n",
    "        probabilities = torch.softmax(output, dim=0)\n",
    "        predicted_class = torch.argmax(probabilities).item()\n",
    "    return probabilities, predicted_class\n",
    "\n",
    "# Example input data\n",
    "input_data = [2.02, 28.22204, 0.4549797, 0, -0.377058, -0.2713, -0.4834, -3.15]  # Replace this with your own input data\n",
    "probabilities, predicted_class = predict(model, input_data)\n",
    "\n",
    "# Map the predicted_class index to the corresponding label\n",
    "class_labels = ['MyPaddleIsRight', 'MyPaddleIsLeft', 'MyPaddleIsStill']\n",
    "predicted_label = class_labels[predicted_class]\n",
    "\n",
    "print(f\"Probabilities: {probabilities.cpu().numpy()}\")\n",
    "print(f\"Predicted class index: {predicted_class}\")\n",
    "print(f\"Predicted class label: {predicted_label}\")\n"
   ]
  }
 ],
 "metadata": {
  "kernelspec": {
   "display_name": "base",
   "language": "python",
   "name": "python3"
  },
  "language_info": {
   "codemirror_mode": {
    "name": "ipython",
    "version": 3
   },
   "file_extension": ".py",
   "mimetype": "text/x-python",
   "name": "python",
   "nbconvert_exporter": "python",
   "pygments_lexer": "ipython3",
   "version": "3.9.13"
  },
  "orig_nbformat": 4
 },
 "nbformat": 4,
 "nbformat_minor": 2
}
