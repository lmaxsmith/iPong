{
 "cells": [
  {
   "cell_type": "code",
   "execution_count": 15,
   "metadata": {},
   "outputs": [
    {
     "name": "stdout",
     "output_type": "stream",
     "text": [
      "Using device: cuda\n"
     ]
    }
   ],
   "source": [
    "import os\n",
    "import torch\n",
    "import torch.nn as nn\n",
    "import torch.optim as optim\n",
    "from torch.utils.data import Dataset, DataLoader\n",
    "import pandas as pd\n",
    "from torch.autograd import Variable\n",
    "\n",
    "# Define the custom dataset class\n",
    "class PaddleDataset(Dataset):\n",
    "    def __init__(self, data):\n",
    "        self.data = data\n",
    "\n",
    "    def __len__(self):\n",
    "        return len(self.data)\n",
    "\n",
    "    def __getitem__(self, idx):\n",
    "        features = torch.tensor(self.data.iloc[idx, :8], dtype=torch.float32)\n",
    "        label = torch.tensor(self.data.iloc[idx, 8:13].values, dtype=torch.float32)\n",
    "        return features, label\n",
    "\n",
    "# Define the neural network model\n",
    "class PaddleClassifier(nn.Module):\n",
    "    def __init__(self):\n",
    "        super(PaddleClassifier, self).__init__()\n",
    "        self.fc1 = nn.Linear(8, 32)\n",
    "        self.fc2 = nn.Linear(32, 5)\n",
    "\n",
    "    def forward(self, x):\n",
    "        x = torch.relu(self.fc1(x))\n",
    "        x = self.fc2(x)\n",
    "        return x\n",
    "\n",
    "# Set the device to CUDA if available\n",
    "device = torch.device(\"cuda\" if torch.cuda.is_available() else \"cpu\")\n",
    "print(f\"Using device: {device}\")"
   ]
  },
  {
   "cell_type": "code",
   "execution_count": 16,
   "metadata": {},
   "outputs": [],
   "source": [
    "# Load the data\n",
    "data = pd.read_csv(\"TrainingDataReorg.tsv\", sep=\"\\t\")\n",
    "train_dataset = PaddleDataset(data)\n",
    "train_dataloader = DataLoader(train_dataset, batch_size=32, shuffle=True)"
   ]
  },
  {
   "cell_type": "code",
   "execution_count": 17,
   "metadata": {},
   "outputs": [],
   "source": [
    "# Initialize the model, loss function, and optimizer\n",
    "model = PaddleClassifier().to(device)\n",
    "criterion = nn.MSELoss()\n",
    "optimizer = optim.Adam(model.parameters(), lr=0.0001)\n",
    "\n",
    "model_path = \"paddle_classifier.pth\"\n",
    "onnx_path = \"paddle_classifier.onnx\"\n",
    "\n",
    "# Load the model from disk if it exists\n",
    "if os.path.isfile(model_path):\n",
    "    model.load_state_dict(torch.load(model_path))\n",
    "    model.to(device)\n",
    "    print(\"Model loaded from disk\")"
   ]
  },
  {
   "cell_type": "code",
   "execution_count": 19,
   "metadata": {},
   "outputs": [
    {
     "name": "stdout",
     "output_type": "stream",
     "text": [
      "Epoch [1/30], Loss: 0.1698\n",
      "Epoch [2/30], Loss: 0.0876\n",
      "Epoch [3/30], Loss: 0.0635\n",
      "Epoch [4/30], Loss: 0.0580\n",
      "Epoch [5/30], Loss: 0.0639\n",
      "Epoch [6/30], Loss: 0.0612\n",
      "Epoch [7/30], Loss: 0.0537\n",
      "Epoch [8/30], Loss: 0.0967\n",
      "Epoch [9/30], Loss: 0.0241\n",
      "Epoch [10/30], Loss: 0.0585\n",
      "Epoch [11/30], Loss: 0.0270\n",
      "Epoch [12/30], Loss: 0.0419\n",
      "Epoch [13/30], Loss: 0.0482\n",
      "Epoch [14/30], Loss: 0.0439\n",
      "Epoch [15/30], Loss: 0.0240\n",
      "Epoch [16/30], Loss: 0.0368\n",
      "Epoch [17/30], Loss: 0.0225\n",
      "Epoch [18/30], Loss: 0.6929\n",
      "Epoch [19/30], Loss: 0.0226\n",
      "Epoch [20/30], Loss: 0.0531\n",
      "Epoch [21/30], Loss: 0.0190\n",
      "Epoch [22/30], Loss: 0.0282\n",
      "Epoch [23/30], Loss: 0.0447\n",
      "Epoch [24/30], Loss: 0.0527\n",
      "Epoch [25/30], Loss: 0.0285\n",
      "Epoch [26/30], Loss: 0.0324\n",
      "Epoch [27/30], Loss: 0.0269\n",
      "Epoch [28/30], Loss: 0.0283\n",
      "Epoch [29/30], Loss: 0.0347\n",
      "Epoch [30/30], Loss: 0.0312\n",
      "Training complete\n"
     ]
    }
   ],
   "source": [
    "# Train the model\n",
    "epochs = 30\n",
    "for epoch in range(epochs):\n",
    "    for inputs, labels in train_dataloader:\n",
    "        inputs, labels = inputs.to(device), labels.to(device)\n",
    "        optimizer.zero_grad()\n",
    "        \n",
    "        outputs = model(inputs)\n",
    "        loss = criterion(outputs, labels)\n",
    "        loss.backward()\n",
    "        optimizer.step()\n",
    "\n",
    "    # if (epoch + 1) % 10 == 0:\n",
    "    print(f\"Epoch [{epoch + 1}/{epochs}], Loss: {loss.item():.4f}\")\n",
    "\n",
    "print(\"Training complete\")"
   ]
  },
  {
   "cell_type": "code",
   "execution_count": 20,
   "metadata": {},
   "outputs": [
    {
     "name": "stdout",
     "output_type": "stream",
     "text": [
      "Model saved to paddle_classifier.pth\n",
      "ONNX model saved to paddle_classifier.onnx\n"
     ]
    }
   ],
   "source": [
    "# Save the trained model to disk\n",
    "torch.save(model.state_dict(), model_path)\n",
    "print(f\"Model saved to {model_path}\")\n",
    "\n",
    "# Move the model back to CPU before exporting to ONNX\n",
    "model.to(\"cpu\")\n",
    "\n",
    "# Export the model to ONNX format\n",
    "dummy_input = Variable(torch.randn(1, 8))\n",
    "torch.onnx.export(model, dummy_input, onnx_path, verbose=True, input_names=[\"input\"], output_names=[\"output\"])\n",
    "\n",
    "# Check the ONNX model\n",
    "#onnx_model = torch.onnx.load(onnx_path)\n",
    "#onnx.checker.check_model(onnx_model)\n",
    "print(f\"ONNX model saved to {onnx_path}\")"
   ]
  },
  {
   "cell_type": "code",
   "execution_count": 21,
   "metadata": {},
   "outputs": [
    {
     "name": "stdout",
     "output_type": "stream",
     "text": [
      "Probabilities: [0.12449959 0.13521875 0.40022224 0.15066096 0.18939844]\n",
      "Predicted class index: 2\n",
      "Predicted class label: MyPaddleIsStill\n"
     ]
    }
   ],
   "source": [
    "#test model with set inputs\n",
    "import numpy as np\n",
    "\n",
    "def predict(model, input_data):\n",
    "    model.eval()\n",
    "    with torch.no_grad():\n",
    "        model.to(device)\n",
    "        input_tensor = torch.tensor(input_data, dtype=torch.float32).to(device)\n",
    "        output = model(input_tensor)\n",
    "        probabilities = torch.softmax(output, dim=0)\n",
    "        predicted_class = torch.argmax(probabilities).item()\n",
    "    return probabilities, predicted_class\n",
    "\n",
    "# Example input data\n",
    "input_data = [2.02, 28.22204, 0.4549797, 0, -0.377058, -0.2713, -0.4834, -3.15]  # Replace this with your own input data\n",
    "probabilities, predicted_class = predict(model, input_data)\n",
    "\n",
    "# Map the predicted_class index to the corresponding label\n",
    "class_labels = ['MyPaddleIsRight', 'MyPaddleIsLeft', 'MyPaddleIsStill']\n",
    "predicted_label = class_labels[predicted_class]\n",
    "\n",
    "print(f\"Probabilities: {probabilities.cpu().numpy()}\")\n",
    "print(f\"Predicted class index: {predicted_class}\")\n",
    "print(f\"Predicted class label: {predicted_label}\")\n"
   ]
  },
  {
   "cell_type": "code",
   "execution_count": 81,
   "metadata": {},
   "outputs": [],
   "source": [
    "def evaluate_with_labels(model, dataloader):\n",
    "    model.eval()\n",
    "    all_predicted_labels = []\n",
    "    all_correct_labels = []\n",
    "\n",
    "    with torch.no_grad():\n",
    "        for inputs, labels in dataloader:\n",
    "            inputs, labels = inputs.to(device), labels.to(device)\n",
    "            outputs = model(inputs)\n",
    "            _, predicted = torch.max(outputs.data, 1)\n",
    "            all_predicted_labels.extend(predicted.cpu().numpy())\n",
    "            all_correct_labels.extend(labels.cpu().numpy())\n",
    "\n",
    "    return all_predicted_labels, all_correct_labels\n"
   ]
  },
  {
   "cell_type": "code",
   "execution_count": 83,
   "metadata": {},
   "outputs": [
    {
     "data": {
      "image/png": "[encoded data removed]",
      "text/plain": [
       "<Figure size 640x480 with 1 Axes>"
      ]
     },
     "metadata": {},
     "output_type": "display_data"
    }
   ],
   "source": [
    "from sklearn.model_selection import train_test_split\n",
    "import matplotlib.pyplot as plt\n",
    "\n",
    "train_data, val_data = train_test_split(data, test_size=0.2, random_state=42)\n",
    "train_dataset = PaddleDataset(train_data)\n",
    "val_dataset = PaddleDataset(val_data)\n",
    "train_dataloader = DataLoader(train_dataset, batch_size=32, shuffle=True)\n",
    "val_dataloader = DataLoader(val_dataset, batch_size=32, shuffle=False)\n",
    "\n",
    "\n",
    "# Evaluate the model on the validation set and get predicted and correct labels\n",
    "predicted_labels, correct_labels = evaluate_with_labels(model, val_dataloader)\n",
    "\n",
    "# Create histograms for predicted and correct labels\n",
    "bins = np.arange(4) - 0.5  # Shift the bins by 0.5 to center the bars\n",
    "plt.hist(predicted_labels, bins, alpha=0.5, label=\"Predicted\", color=\"blue\", edgecolor=\"black\")\n",
    "plt.hist(correct_labels, bins, alpha=0.5, label=\"Correct\", color=\"orange\", edgecolor=\"black\")\n",
    "plt.xlabel(\"Class\")\n",
    "plt.ylabel(\"Frequency\")\n",
    "plt.xticks(range(3), ['MyPaddleIsRight', 'MyPaddleIsLeft', 'MyPaddleIsStill'])\n",
    "plt.legend(loc=\"upper right\")\n",
    "plt.show()"
   ]
  }
 ],
 "metadata": {
  "kernelspec": {
   "display_name": "base",
   "language": "python",
   "name": "python3"
  },
  "language_info": {
   "codemirror_mode": {
    "name": "ipython",
    "version": 3
   },
   "file_extension": ".py",
   "mimetype": "text/x-python",
   "name": "python",
   "nbconvert_exporter": "python",
   "pygments_lexer": "ipython3",
   "version": "3.9.13"
  },
  "orig_nbformat": 4
 },
 "nbformat": 4,
 "nbformat_minor": 2
}
