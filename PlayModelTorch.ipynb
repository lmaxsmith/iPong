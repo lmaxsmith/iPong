{
 "cells": [
  {
   "cell_type": "code",
   "execution_count": 2,
   "id": "d9da3bed",
   "metadata": {},
   "outputs": [
    {
     "name": "stdout",
     "output_type": "stream",
     "text": [
      "blah\n"
     ]
    }
   ],
   "source": [
    "import os\n",
    "import torch\n",
    "from torch import nn\n",
    "from torch.utils.data import DataLoader\n",
    "from torchvision import datasets, transforms\n",
    "\n",
    "print('blah')"
   ]
  },
  {
   "cell_type": "code",
   "execution_count": 3,
   "id": "b970ed6f",
   "metadata": {},
   "outputs": [
    {
     "name": "stdout",
     "output_type": "stream",
     "text": [
      "Using mps device\n"
     ]
    }
   ],
   "source": [
    "device = \"cuda\" if torch.cuda.is_available() else \"mps\" if torch.backends.mps.is_available() else \"cpu\"\n",
    "print(f\"Using {device} device\")"
   ]
  },
  {
   "cell_type": "code",
   "execution_count": 6,
   "id": "24937e5f",
   "metadata": {},
   "outputs": [],
   "source": [
    "class NeuralNetwork(nn.Module):\n",
    "    def __init__(self):\n",
    "        super(NeuralNetwork, self).__init__()\n",
    "        self.flatten = nn.Flatten()\n",
    "        self.linear_relu_stack = nn.Sequential(\n",
    "            nn.Linear(8, 6),\n",
    "            nn.Softmax(),\n",
    "            nn.Linear(6, 4),\n",
    "            nn.Softmax(),\n",
    "            nn.Linear(4, 1),\n",
    "        )\n",
    "\n",
    "    def forward(self, x):\n",
    "        x = self.flatten(x)\n",
    "        logits = self.linear_relu_stack(x)\n",
    "        return logits"
   ]
  },
  {
   "cell_type": "code",
   "execution_count": 7,
   "id": "763a141a",
   "metadata": {},
   "outputs": [
    {
     "name": "stdout",
     "output_type": "stream",
     "text": [
      "NeuralNetwork(\n",
      "  (flatten): Flatten(start_dim=1, end_dim=-1)\n",
      "  (linear_relu_stack): Sequential(\n",
      "    (0): Linear(in_features=8, out_features=6, bias=True)\n",
      "    (1): Softmax(dim=None)\n",
      "    (2): Linear(in_features=6, out_features=4, bias=True)\n",
      "    (3): Softmax(dim=None)\n",
      "    (4): Linear(in_features=4, out_features=1, bias=True)\n",
      "  )\n",
      ")\n"
     ]
    }
   ],
   "source": [
    "model = NeuralNetwork().to(device)\n",
    "print(model)"
   ]
  },
  {
   "cell_type": "code",
   "execution_count": 8,
   "id": "9ab79f5b",
   "metadata": {},
   "outputs": [
    {
     "name": "stderr",
     "output_type": "stream",
     "text": [
      "/Users/logan/opt/anaconda3/lib/python3.9/site-packages/torch/nn/modules/container.py:204: UserWarning: Implicit dimension choice for softmax has been deprecated. Change the call to include dim=X as an argument.\n",
      "  input = module(input)\n"
     ]
    },
    {
     "name": "stdout",
     "output_type": "stream",
     "text": [
      "All returns: tensor([[-0.2537]], device='mps:0', grad_fn=<LinearBackward0>)\n",
      "Predicted class: tensor([0], device='mps:0')\n"
     ]
    },
    {
     "name": "stderr",
     "output_type": "stream",
     "text": [
      "/Users/logan/opt/anaconda3/lib/python3.9/site-packages/torch/_tensor_str.py:115: UserWarning: The operator 'aten::nonzero' is not currently supported on the MPS backend and will fall back to run on the CPU. This may have performance implications. (Triggered internally at /Users/runner/work/_temp/anaconda/conda-bld/pytorch_1670525473998/work/aten/src/ATen/mps/MPSFallback.mm:11.)\n",
      "  nonzero_finite_vals = torch.masked_select(\n"
     ]
    }
   ],
   "source": [
    "X = torch.rand(1, 8, device=device)\n",
    "logits = model(X)\n",
    "print(f\"All returns: {logits}\")\n",
    "\n",
    "pred_probab = nn.Softmax(dim=1)(logits)\n",
    "y_pred = pred_probab.argmax(1)\n",
    "print(f\"Predicted class: {y_pred}\")"
   ]
  },
  {
   "cell_type": "code",
   "execution_count": 11,
   "id": "a9e2d57d",
   "metadata": {},
   "outputs": [],
   "source": [
    "import pandas as pd\n",
    "from sklearn.model_selection import train_test_split\n",
    "from torch.utils.data import Dataset, DataLoader\n",
    "\n",
    "play_data = pandas.read_table('TrainingQueue.tsv')\n",
    "\n",
    "\n",
    "X = play_data.drop(columns=['MyPaddleVelocity','Unnamed: 9']).dropna()\n",
    "y = play_data['MyPaddleVelocity'].dropna() \n",
    "\n"
   ]
  },
  {
   "cell_type": "code",
   "execution_count": 12,
   "id": "5ac9195e",
   "metadata": {},
   "outputs": [],
   "source": [
    "class PongDataset(Dataset):\n",
    "    def __init__(self, X, y):\n",
    "        self.features = X.values\n",
    "        self.labels = y.values\n",
    "\n",
    "    def __len__(self):\n",
    "        return len(self.features)\n",
    "\n",
    "    def __getitem__(self, idx):\n",
    "        feature = self.features[idx]\n",
    "        label = self.labels[idx]\n",
    "        return feature, label\n",
    "\n",
    "play_data = pd.read_table('TrainingQueue.tsv')\n",
    "X = play_data.drop(columns=['MyPaddleVelocity', 'Unnamed: 9']).dropna()\n",
    "y = play_data['MyPaddleVelocity'].dropna()"
   ]
  },
  {
   "cell_type": "code",
   "execution_count": 13,
   "id": "6d1cbc05",
   "metadata": {},
   "outputs": [],
   "source": [
    "# Split the data into training and validation sets\n",
    "X_train, X_val, y_train, y_val = train_test_split(X, y, test_size=0.2, random_state=42)\n",
    "\n",
    "# Create data loaders for the training and validation sets\n",
    "train_dataset = PongDataset(X_train, y_train)\n",
    "train_loader = DataLoader(train_dataset, batch_size=32, shuffle=True)\n",
    "\n",
    "val_dataset = PongDataset(X_val, y_val)\n",
    "val_loader = DataLoader(val_dataset, batch_size=32, shuffle=False)\n"
   ]
  },
  {
   "cell_type": "code",
   "execution_count": 30,
   "id": "2f6630ac",
   "metadata": {},
   "outputs": [
    {
     "name": "stdout",
     "output_type": "stream",
     "text": [
      "Epoch [0/10], Train Loss: 2.3125, Val Loss: 4.4787\n",
      "Epoch [1/10], Train Loss: 0.7172, Val Loss: 4.4162\n",
      "Epoch [2/10], Train Loss: 2.1200, Val Loss: 4.3517\n",
      "Epoch [3/10], Train Loss: 1.1473, Val Loss: 4.2826\n",
      "Epoch [4/10], Train Loss: 2.2071, Val Loss: 4.2222\n",
      "Epoch [5/10], Train Loss: 1.0643, Val Loss: 4.1645\n",
      "Epoch [6/10], Train Loss: 0.7139, Val Loss: 4.0909\n",
      "Epoch [7/10], Train Loss: 2.2810, Val Loss: 4.0214\n",
      "Epoch [8/10], Train Loss: 2.4666, Val Loss: 3.9658\n",
      "Epoch [9/10], Train Loss: 1.1426, Val Loss: 3.9113\n"
     ]
    }
   ],
   "source": [
    "# Define the loss function and optimizer\n",
    "loss_fn = nn.MSELoss()\n",
    "learning_rate = .001\n",
    "optimizer = torch.optim.Adam(model.parameters(), lr=learning_rate)\n",
    "\n",
    "# Train the model for the specified number of epochs\n",
    "num_epochs = 10\n",
    "for epoch in range(num_epochs):\n",
    "    for batch in train_loader:\n",
    "        # Move the batch of training data to the device\n",
    "        X_batch, y_batch = batch\n",
    "        X_batch = X_batch.float()\n",
    "        y_batch = y_batch.float()\n",
    "        X_batch, y_batch = X_batch.to(device).float(), y_batch.to(device).float()\n",
    "        \n",
    "        # Forward pass\n",
    "        y_pred = model(X_batch)\n",
    "        loss = loss_fn(y_pred, y_batch.unsqueeze(1))\n",
    "        \n",
    "        # Backward pass and optimization\n",
    "        optimizer.zero_grad()\n",
    "        loss.backward()\n",
    "        optimizer.step()\n",
    "    \n",
    "    # Evaluate the model on the validation set\n",
    "    with torch.no_grad():\n",
    "        for batch in val_loader:\n",
    "            # Move the batch of validation data to the device\n",
    "            X_batch, y_batch = batch\n",
    "            X_batch = X_batch.float()\n",
    "            y_batch = y_batch.float()\n",
    "            X_batch, y_batch = X_batch.to(device), y_batch.to(device)\n",
    "\n",
    "            # Forward pass\n",
    "            y_pred = model(X_batch)\n",
    "            val_loss = loss_fn(y_pred, y_batch.unsqueeze(1))\n",
    "            \n",
    "        # Print progress\n",
    "        print(f\"Epoch [{epoch}/{num_epochs}], Train Loss: {loss.item():.4f}, Val Loss: {val_loss.item():.4f}\")\n",
    "\n"
   ]
  },
  {
   "cell_type": "code",
   "execution_count": 31,
   "id": "d6be7441",
   "metadata": {},
   "outputs": [
    {
     "ename": "NameError",
     "evalue": "name 'test_loader' is not defined",
     "output_type": "error",
     "traceback": [
      "\u001b[0;31m---------------------------------------------------------------------------\u001b[0m",
      "\u001b[0;31mNameError\u001b[0m                                 Traceback (most recent call last)",
      "\u001b[1;32m/Users/logan/Repositories/iPong/PlayModelTorch.ipynb Cell 10\u001b[0m in \u001b[0;36m<cell line: 6>\u001b[0;34m()\u001b[0m\n\u001b[1;32m      <a href='vscode-notebook-cell:/Users/logan/Repositories/iPong/PlayModelTorch.ipynb#X12sZmlsZQ%3D%3D?line=4'>5</a>\u001b[0m correct \u001b[39m=\u001b[39m \u001b[39m0\u001b[39m\n\u001b[1;32m      <a href='vscode-notebook-cell:/Users/logan/Repositories/iPong/PlayModelTorch.ipynb#X12sZmlsZQ%3D%3D?line=5'>6</a>\u001b[0m \u001b[39mwith\u001b[39;00m torch\u001b[39m.\u001b[39mno_grad():\n\u001b[0;32m----> <a href='vscode-notebook-cell:/Users/logan/Repositories/iPong/PlayModelTorch.ipynb#X12sZmlsZQ%3D%3D?line=6'>7</a>\u001b[0m     \u001b[39mfor\u001b[39;00m batch \u001b[39min\u001b[39;00m test_loader:\n\u001b[1;32m      <a href='vscode-notebook-cell:/Users/logan/Repositories/iPong/PlayModelTorch.ipynb#X12sZmlsZQ%3D%3D?line=7'>8</a>\u001b[0m         \u001b[39m# Move the batch of testing data to the device\u001b[39;00m\n\u001b[1;32m      <a href='vscode-notebook-cell:/Users/logan/Repositories/iPong/PlayModelTorch.ipynb#X12sZmlsZQ%3D%3D?line=8'>9</a>\u001b[0m         X_batch, y_batch \u001b[39m=\u001b[39m batch\n\u001b[1;32m     <a href='vscode-notebook-cell:/Users/logan/Repositories/iPong/PlayModelTorch.ipynb#X12sZmlsZQ%3D%3D?line=9'>10</a>\u001b[0m         X_batch, y_batch \u001b[39m=\u001b[39m X_batch\u001b[39m.\u001b[39mto(device)\u001b[39m.\u001b[39mfloat(), y_batch\u001b[39m.\u001b[39mto(device)\u001b[39m.\u001b[39mfloat()\n",
      "\u001b[0;31mNameError\u001b[0m: name 'test_loader' is not defined"
     ]
    }
   ],
   "source": [
    "# Evaluate the trained model on the test set\n",
    "model.eval()\n",
    "\n",
    "\n",
    "\n",
    "test_loss = 0\n",
    "correct = 0\n",
    "with torch.no_grad():\n",
    "    for batch in val_loader:\n",
    "        # Move the batch of testing data to the device\n",
    "        X_batch, y_batch = batch\n",
    "        X_batch, y_batch = X_batch.to(device).float(), y_batch.to(device).float()\n",
    "\n",
    "        # Forward pass\n",
    "        y_pred = model(X_batch)\n",
    "\n",
    "        # Compute loss\n",
    "        test_loss += loss_fn(y_pred, y_batch).item()\n",
    "\n",
    "        # Compute number of correct predictions\n",
    "        correct += (y_pred.argmax(1) == y_batch.argmax(1)).type(torch.float).sum().item()\n",
    "\n",
    "test_loss /= len(val_loader.dataset)\n",
    "accuracy = correct / len(val_loader.dataset)\n",
    "\n",
    "print(f'Test set: Average loss: {test_loss:.4f}, Accuracy: {accuracy:.2%}')\n"
   ]
  }
 ],
 "metadata": {
  "kernelspec": {
   "display_name": "base",
   "language": "python",
   "name": "python3"
  },
  "language_info": {
   "codemirror_mode": {
    "name": "ipython",
    "version": 3
   },
   "file_extension": ".py",
   "mimetype": "text/x-python",
   "name": "python",
   "nbconvert_exporter": "python",
   "pygments_lexer": "ipython3",
   "version": "3.9.12"
  },
  "vscode": {
   "interpreter": {
    "hash": "e0942d097a3d85f7f7e6db728cda1faec53ae278c49874135db056ee1e5e1978"
   }
  }
 },
 "nbformat": 4,
 "nbformat_minor": 5
}
