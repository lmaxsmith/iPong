{
 "cells": [
  {
   "cell_type": "code",
   "execution_count": 78,
   "id": "d9da3bed",
   "metadata": {},
   "outputs": [
    {
     "name": "stdout",
     "output_type": "stream",
     "text": [
      "blah\n"
     ]
    }
   ],
   "source": [
    "import os\n",
    "import torch\n",
    "from torch import nn\n",
    "from torch.utils.data import DataLoader\n",
    "# from torchvision import datasets, transforms\n",
    "\n",
    "print('blah')"
   ]
  },
  {
   "cell_type": "code",
   "execution_count": 79,
   "id": "b970ed6f",
   "metadata": {},
   "outputs": [
    {
     "name": "stdout",
     "output_type": "stream",
     "text": [
      "Using cpu device\n"
     ]
    }
   ],
   "source": [
    "device = \"cuda\" if torch.cuda.is_available() else \"mps\" if torch.backends.mps.is_available() else \"cpu\"\n",
    "print(f\"Using {device} device\")"
   ]
  },
  {
   "cell_type": "code",
   "execution_count": 80,
   "id": "24937e5f",
   "metadata": {},
   "outputs": [],
   "source": [
    "class NeuralNetwork(nn.Module):\n",
    "    def __init__(self):\n",
    "        super(NeuralNetwork, self).__init__()\n",
    "        self.flatten = nn.Flatten()\n",
    "        self.linear_softmax_stack = nn.Sequential(\n",
    "            nn.Linear(8, 13),\n",
    "            nn.ReLU(),\n",
    "            nn.Linear(13, 3),\n",
    "        )\n",
    "\n",
    "    def forward(self, x):\n",
    "        x = self.flatten(x)\n",
    "        logits = self.linear_softmax_stack(x)\n",
    "        return logits"
   ]
  },
  {
   "cell_type": "code",
   "execution_count": 81,
   "id": "763a141a",
   "metadata": {},
   "outputs": [],
   "source": [
    "#Load orcreate new model\n",
    "\n",
    "model = NeuralNetwork().to(device)\n",
    "model_path = 'my_model.pt'\n",
    "\n",
    "if(os.path.exists(model_path)):\n",
    "    model.load_state_dict(torch.load(model_path))\n",
    "    print(\"Loaded saved state\")"
   ]
  },
  {
   "cell_type": "code",
   "execution_count": 82,
   "id": "9ab79f5b",
   "metadata": {},
   "outputs": [
    {
     "name": "stdout",
     "output_type": "stream",
     "text": [
      "All returns: tensor([[ 0.3499, -0.3212, -0.5514]], grad_fn=<AddmmBackward0>)\n",
      "Predicted class: tensor([0])\n"
     ]
    }
   ],
   "source": [
    "X = torch.rand(1, 8, device=device)\n",
    "logits = model(X)\n",
    "print(f\"All returns: {logits}\")\n",
    "\n",
    "pred_probab = nn.Softmax(dim=1)(logits)\n",
    "y_pred = pred_probab.argmax(1)\n",
    "print(f\"Predicted class: {y_pred}\")"
   ]
  },
  {
   "cell_type": "code",
   "execution_count": 83,
   "id": "a9e2d57d",
   "metadata": {},
   "outputs": [],
   "source": [
    "# Prepare to load data in next sesction\n",
    "import pandas as pd\n",
    "from sklearn.model_selection import train_test_split\n",
    "from torch.utils.data import Dataset, DataLoader\n",
    "\n",
    "class PongDataset(Dataset):\n",
    "    def __init__(self, X, y):\n",
    "        self.features = X.values\n",
    "        self.labels = y.values\n",
    "\n",
    "    def __len__(self):\n",
    "        return len(self.features)\n",
    "\n",
    "    def __getitem__(self, idx):\n",
    "        feature = self.features[idx]\n",
    "        label = self.labels[idx]\n",
    "        return feature, label"
   ]
  },
  {
   "cell_type": "code",
   "execution_count": 84,
   "id": "5ac9195e",
   "metadata": {},
   "outputs": [],
   "source": [
    "\n",
    "#load data from file\n",
    "play_data = pd.read_table('TrainingQueue.tsv')\n",
    "#print(\"Printing play_data: \", play_data)\n",
    "X = play_data.drop(['MyPaddleIsRight', 'MyPaddleIsLeft', 'MyPaddleIsStill', 'Unnamed: 11'], axis=1).dropna()\n",
    "# y = play_data[['MyPaddleIsRight', 'MyPaddleIsLeft', 'MyPaddleIsStill']].dropna()\n",
    "y = play_data[['MyPaddleIsRight', 'MyPaddleIsLeft', 'MyPaddleIsStill']].dropna()\n",
    "\n",
    "# Split the data into training and validation sets\n",
    "X_train, X_val, y_train, y_val = train_test_split(X, y, test_size=0.2, random_state=42)\n",
    "\n",
    "# Create data loaders for the training and validation sets\n",
    "train_dataset = PongDataset(X_train, y_train)\n",
    "train_loader = DataLoader(train_dataset, batch_size=32, shuffle=True)\n",
    "\n",
    "val_dataset = PongDataset(X_val, y_val)\n",
    "val_loader = DataLoader(val_dataset, batch_size=32, shuffle=False)"
   ]
  },
  {
   "cell_type": "code",
   "execution_count": 85,
   "id": "930631db",
   "metadata": {},
   "outputs": [
    {
     "name": "stdout",
     "output_type": "stream",
     "text": [
      "       MyPaddlePosition  MyPaddleTimeAsIs  OpponentPaddle  OpponentVelocity  \\\n",
      "0             -1.000000          1.693643        0.000000               0.0   \n",
      "1             -0.840000          0.000000        0.000000               0.0   \n",
      "2             -0.840000          0.000000        0.000000               0.0   \n",
      "3             -0.840000          0.023200        0.000000               0.0   \n",
      "4             -0.840000          0.050913        0.000000               0.0   \n",
      "...                 ...               ...             ...               ...   \n",
      "13438          0.005001          2.910889       -2.085001               0.0   \n",
      "13439          0.005001          2.931305       -2.085001               0.0   \n",
      "13440          0.005001          2.955170       -2.085001               0.0   \n",
      "13441          0.005001          2.979248       -2.085001               0.0   \n",
      "13442          0.005001          3.001923       -2.085001               0.0   \n",
      "\n",
      "       BallPositionX  BallPositionY  BallVelocityX  BallVelocityY  \n",
      "0           0.000000      -0.300000       0.000000          -3.00  \n",
      "1           0.000000      -0.420000       0.000000          -3.00  \n",
      "2           0.000000      -0.480000       0.000000          -3.00  \n",
      "3           0.000000      -0.600000       0.000000          -3.00  \n",
      "4           0.000000      -0.660000       0.000000          -3.00  \n",
      "...              ...            ...            ...            ...  \n",
      "13438      -0.007002      -0.862695      -0.016671           3.15  \n",
      "13439      -0.007335      -0.799695      -0.016671           3.15  \n",
      "13440      -0.007668      -0.736695      -0.016671           3.15  \n",
      "13441      -0.008002      -0.673695      -0.016671           3.15  \n",
      "13442      -0.008669      -0.547695      -0.016671           3.15  \n",
      "\n",
      "[13443 rows x 8 columns]\n"
     ]
    }
   ],
   "source": [
    "test_data = pd.read_table('TrainingQueue.tsv')\n",
    "#print(test_data)\n",
    "test_data_X = test_data.drop(['MyPaddleIsRight', 'MyPaddleIsLeft', 'MyPaddleIsStill', 'Unnamed: 11'], axis=1).dropna()\n",
    "test_data_DropNa = test_data_X.dropna()\n",
    "print(test_data_DropNa)"
   ]
  },
  {
   "cell_type": "code",
   "execution_count": 86,
   "id": "6d1cbc05",
   "metadata": {},
   "outputs": [],
   "source": [
    "# Split the data into training and validation sets\n",
    "X_train, X_val, y_train, y_val = train_test_split(X, y, test_size=0.2, random_state=42)\n",
    "\n",
    "# Create data loaders for the training and validation sets\n",
    "train_dataset = PongDataset(X_train, y_train)\n",
    "train_loader = DataLoader(train_dataset, batch_size=32, shuffle=True)\n",
    "\n",
    "val_dataset = PongDataset(X_val, y_val)\n",
    "val_loader = DataLoader(val_dataset, batch_size=32, shuffle=False)\n"
   ]
  },
  {
   "cell_type": "code",
   "execution_count": 87,
   "id": "2f6630ac",
   "metadata": {},
   "outputs": [
    {
     "name": "stderr",
     "output_type": "stream",
     "text": [
      "c:\\Users\\User\\anaconda3\\lib\\site-packages\\torch\\nn\\modules\\loss.py:530: UserWarning: Using a target size (torch.Size([32, 1, 3])) that is different to the input size (torch.Size([32, 3])). This will likely lead to incorrect results due to broadcasting. Please ensure they have the same size.\n",
      "  return F.mse_loss(input, target, reduction=self.reduction)\n",
      "c:\\Users\\User\\anaconda3\\lib\\site-packages\\torch\\nn\\modules\\loss.py:530: UserWarning: Using a target size (torch.Size([2, 1, 3])) that is different to the input size (torch.Size([2, 3])). This will likely lead to incorrect results due to broadcasting. Please ensure they have the same size.\n",
      "  return F.mse_loss(input, target, reduction=self.reduction)\n",
      "c:\\Users\\User\\anaconda3\\lib\\site-packages\\torch\\nn\\modules\\loss.py:530: UserWarning: Using a target size (torch.Size([1, 1, 3])) that is different to the input size (torch.Size([1, 3])). This will likely lead to incorrect results due to broadcasting. Please ensure they have the same size.\n",
      "  return F.mse_loss(input, target, reduction=self.reduction)\n"
     ]
    },
    {
     "name": "stdout",
     "output_type": "stream",
     "text": [
      "Epoch [0/10], Train Loss: 0.2598, Val Loss: 0.1971\n",
      "Epoch [1/10], Train Loss: 0.0134, Val Loss: 0.1230\n",
      "Epoch [2/10], Train Loss: 0.3525, Val Loss: 0.1054\n",
      "Epoch [3/10], Train Loss: 0.0105, Val Loss: 0.1025\n",
      "Epoch [4/10], Train Loss: 0.0193, Val Loss: 0.1016\n",
      "Epoch [5/10], Train Loss: 0.0132, Val Loss: 0.1006\n",
      "Epoch [6/10], Train Loss: 0.0166, Val Loss: 0.1000\n",
      "Epoch [7/10], Train Loss: 0.0189, Val Loss: 0.0994\n",
      "Epoch [8/10], Train Loss: 0.2660, Val Loss: 0.0992\n",
      "Epoch [9/10], Train Loss: 0.2531, Val Loss: 0.0987\n"
     ]
    },
    {
     "data": {
      "image/png": "[encoded data removed]",
      "text/plain": [
       "<Figure size 640x480 with 1 Axes>"
      ]
     },
     "metadata": {},
     "output_type": "display_data"
    }
   ],
   "source": [
    "import matplotlib.pyplot as plt\n",
    "\n",
    "# Define the loss function and optimizer\n",
    "loss_fn = nn.MSELoss()\n",
    "learning_rate = .001\n",
    "optimizer = torch.optim.Adam(model.parameters(), lr=learning_rate)\n",
    "\n",
    "# Initialize lists to store the training and validation losses\n",
    "train_losses = []\n",
    "val_losses = []\n",
    "\n",
    "# Train the model for the specified number of epochs\n",
    "num_epochs = 10\n",
    "for epoch in range(num_epochs):\n",
    "    for batch in train_loader:\n",
    "        # Move the batch of training data to the device\n",
    "        X_batch, y_batch = batch\n",
    "        X_batch = X_batch.float()\n",
    "        y_batch = y_batch.float()\n",
    "        X_batch, y_batch = X_batch.to(device), y_batch.to(device)\n",
    "        \n",
    "        # Forward pass\n",
    "        y_pred = model(X_batch)\n",
    "        loss = loss_fn(y_pred, y_batch.unsqueeze(1))\n",
    "        \n",
    "        # Backward pass and optimization\n",
    "        optimizer.zero_grad()\n",
    "        loss.backward()\n",
    "        optimizer.step()\n",
    "    \n",
    "    # Evaluate the model on the validation set\n",
    "    with torch.no_grad():\n",
    "        val_loss_sum = 0\n",
    "        num_batches = 0\n",
    "        for batch in val_loader:\n",
    "            # Move the batch of validation data to the device\n",
    "            X_batch, y_batch = batch\n",
    "            X_batch = X_batch.float()\n",
    "            y_batch = y_batch.float()\n",
    "            X_batch, y_batch = X_batch.to(device), y_batch.to(device)\n",
    "\n",
    "            # Forward pass\n",
    "            y_pred = model(X_batch)\n",
    "            val_loss = loss_fn(y_pred, y_batch.unsqueeze(1))\n",
    "            val_loss_sum += val_loss.item()\n",
    "            num_batches += 1\n",
    "            \n",
    "        # Calculate the average validation loss for the epoch\n",
    "        val_loss_avg = val_loss_sum / num_batches\n",
    "        \n",
    "        # Append the training and validation losses to their respective lists\n",
    "        train_losses.append(loss.item())\n",
    "        val_losses.append(val_loss_avg)\n",
    "            \n",
    "        # Print progress\n",
    "        print(f\"Epoch [{epoch}/{num_epochs}], Train Loss: {loss.item():.4f}, Val Loss: {val_loss_avg:.4f}\")\n",
    "\n",
    "# Plot the training and validation loss curves\n",
    "plt.plot(train_losses, label=\"Training Loss\")\n",
    "plt.plot(val_losses, label=\"Validation Loss\")\n",
    "plt.xlabel(\"Epoch\")\n",
    "plt.ylabel(\"Loss\")\n",
    "plt.legend()\n",
    "plt.show()\n"
   ]
  },
  {
   "cell_type": "code",
   "execution_count": 88,
   "id": "d6be7441",
   "metadata": {},
   "outputs": [
    {
     "name": "stdout",
     "output_type": "stream",
     "text": [
      "Test set: Average loss: 0.0031, Accuracy: 82.97%\n"
     ]
    }
   ],
   "source": [
    "# Evaluate the trained model on the test set\n",
    "model.eval()\n",
    "\n",
    "test_loss = 0\n",
    "correct = 0\n",
    "with torch.no_grad():\n",
    "    for batch in val_loader:\n",
    "        # Move the batch of testing data to the device\n",
    "        X_batch, y_batch = batch\n",
    "        X_batch = X_batch.float()\n",
    "        y_batch = y_batch.float()\n",
    "        X_batch, y_batch = X_batch.to(device), y_batch.to(device)\n",
    "\n",
    "        # Forward pass\n",
    "        y_pred = model(X_batch)\n",
    "\n",
    "        # Compute loss\n",
    "        loss = loss_fn(y_pred, y_batch)\n",
    "        if isinstance(loss, tuple):\n",
    "            test_loss += loss[0].item()\n",
    "        else:\n",
    "            test_loss += loss.item()\n",
    "\n",
    "        # Compute number of correct predictions\n",
    "        y_pred_class = torch.argmax(y_pred, dim=1)\n",
    "        y_batch_class = torch.argmax(y_batch, dim=1)\n",
    "        correct += (y_pred_class == y_batch_class).sum().item()\n",
    "\n",
    "test_loss /= len(val_loader.dataset)\n",
    "accuracy = correct / len(val_loader.dataset)\n",
    "\n",
    "print(f'Test set: Average loss: {test_loss:.4f}, Accuracy: {accuracy:.2%}')\n",
    "\n"
   ]
  },
  {
   "cell_type": "code",
   "execution_count": 89,
   "id": "ca37b94f",
   "metadata": {},
   "outputs": [],
   "source": [
    "# Export model\n",
    "model.to('cpu')\n",
    "onnx_file_name = \"torch_model.onnx\"\n",
    "dummy_input = torch.randn(1,8)\n",
    "\n",
    "# Export the trained model to ONNX format\n",
    "torch.onnx.export(model,                 # model being run\n",
    "                  dummy_input,           # dummy input tensor\n",
    "                  onnx_file_name,        # output file name\n",
    "                  verbose=True,          # print out a lot of information\n",
    "                  input_names=[\"input\"], # specify the name of the input\n",
    "                  output_names=[\"output\"], # specify the name of the output\n",
    "                  opset_version=10)      # the ONNX version to use\n",
    "\n",
    "\n",
    "torch.save(model.state_dict(), model_path)"
   ]
  },
  {
   "cell_type": "code",
   "execution_count": null,
   "id": "f854c701",
   "metadata": {},
   "outputs": [],
   "source": []
  }
 ],
 "metadata": {
  "kernelspec": {
   "display_name": "base",
   "language": "python",
   "name": "python3"
  },
  "language_info": {
   "codemirror_mode": {
    "name": "ipython",
    "version": 3
   },
   "file_extension": ".py",
   "mimetype": "text/x-python",
   "name": "python",
   "nbconvert_exporter": "python",
   "pygments_lexer": "ipython3",
   "version": "3.9.13"
  },
  "vscode": {
   "interpreter": {
    "hash": "e0942d097a3d85f7f7e6db728cda1faec53ae278c49874135db056ee1e5e1978"
   }
  }
 },
 "nbformat": 4,
 "nbformat_minor": 5
}
