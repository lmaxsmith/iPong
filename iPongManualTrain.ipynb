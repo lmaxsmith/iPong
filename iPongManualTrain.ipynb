{
 "cells": [
  {
   "cell_type": "code",
   "execution_count": 29,
   "id": "0facb75f",
   "metadata": {},
   "outputs": [
    {
     "name": "stdout",
     "output_type": "stream",
     "text": [
      "imported\n"
     ]
    }
   ],
   "source": [
    "import pandas\n",
    "import sklearn\n",
    "from sklearn import ensemble\n",
    "from sklearn.model_selection import train_test_split\n",
    "\n",
    "print ('imported')"
   ]
  },
  {
   "cell_type": "code",
   "execution_count": 53,
   "id": "dc3f898e",
   "metadata": {},
   "outputs": [],
   "source": [
    "play_data = pandas.read_table('TrainingQueue.tsv')\n",
    "\n",
    "\n",
    "X = play_data.drop(columns=['MyPaddleVelocity','Unnamed: 9']).dropna()\n",
    "y = play_data['MyPaddleVelocity'].dropna()\n",
    "\n",
    "le = sklearn.preprocessing.LabelEncoder()\n",
    "le.fit(y)\n",
    "y = le.transform(y)\n",
    "\n",
    "\n",
    "X_train, X_test, y_train, y_test = train_test_split(X, y, test_size=0.2)\n",
    "\n",
    "\n",
    "\n"
   ]
  },
  {
   "cell_type": "code",
   "execution_count": 57,
   "id": "73c97256",
   "metadata": {},
   "outputs": [
    {
     "name": "stdout",
     "output_type": "stream",
     "text": [
      "[ 0  0  0 -4  0  0  0  0  0  0  0  4  0  0  0  0  0  0  0  0  0  0  0  4\n",
      "  0  0  0  4  0 -4  0  0  0  0  0  0  0 -4  0  4  0  0  0  0  0  0  0  0\n",
      "  0  0  0  0 -4  0  0  0  0 -4  0  0  0  0  4  0  0  0  0  0  0  0  0  0\n",
      " -4  0  0  0  0  0  0  0  4  0  0  0  0  0  0  0  0 -4  0  0  0  0  4  0\n",
      "  0  0  0  0  0  0  0  0  0  0  0  0  0  0  0  4  0  0  0  0  0  0  0  0\n",
      "  4  0  0  0  4  0  0  0  0  0  0  0 -4  0  4  0  0  0  0  0  0 -4  0  0\n",
      "  0  0  0  0  0  0  0  4  0  0  0  0  0  4  0 -4  0  0  0  0  0  0  0  0\n",
      "  0  0  0  0  0  0  0  0  0  0  0  0  0  0  0  0  0  0  0  0  0  0  0  0\n",
      "  0  0  0  0  0  0  0  0  0  0  0  0  0  0  0  0  0  0  0  0  0  0  0  0\n",
      "  0  0  0  0  0  0  0  0  0  0  0  0  0  0  0  0 -4  0  4  0  0  0  0  0\n",
      "  0  0  0  4  0  0  0  0  0  0  0  0  0  0  0  0  0  0  0  0  0  0  0  0\n",
      " -4  0  0  0  0  0  0  0  0  0  0  0 -4  0  0  0  0  0  0  0  0  0  4  0\n",
      " -4  0  0  0  0  0  0  0  4  0  0  0  0  0  0  0  0  0  0  0  0  4  0  4\n",
      "  0  0  0 -4  0  0  0 -4  0  4  0  0  0  0  0  0  4  0  0  0  0  0  0  0\n",
      "  0  0  4  0  0  0  0  0  0  0  0  0  0  0  0  0  0  0  0  0  0  0  0  0\n",
      "  0  0  0  0  0  0  0  0  0  0  0  0  0  0  0  4  0  0  0  0  0  0  0  0\n",
      "  0  0  0  0  0  0  0  0  0  0  0  0  0  0  0  0  0  0  0  0  0  0  0  0\n",
      "  0  0  0  0  0 -4  0  0  0  0  0  0  0 -4 -4  0 -4  0  0  0  0  0  0  0\n",
      "  0  0  0 -4  0  0  0  0  0  0  0  0  0  0  0  0  0  0 -4  0  0  0  0  0\n",
      "  0  0  0  0  4  4  0 -4  0  0  0  0  0  0  0  0  4  0  0  0  0  0  0  0\n",
      "  0  0  0  0  0  0  0  0  0  0  0  0]\n"
     ]
    }
   ],
   "source": [
    "\n",
    "model = ensemble.RandomForestClassifier()\n",
    "model.fit(X_train, y_train)\n",
    "\n",
    "predictions = model.predict(X_test)\n",
    "\n",
    "print(le.inverse_transform(predictions))\n",
    "\n"
   ]
  },
  {
   "cell_type": "code",
   "execution_count": 55,
   "id": "40b5317c",
   "metadata": {},
   "outputs": [
    {
     "data": {
      "text/plain": [
       "0.13744295769201031"
      ]
     },
     "execution_count": 55,
     "metadata": {},
     "output_type": "execute_result"
    }
   ],
   "source": [
    "score = sklearn.metrics.r2_score(y_test, predictions)\n",
    "score"
   ]
  }
 ],
 "metadata": {
  "kernelspec": {
   "display_name": "base",
   "language": "python",
   "name": "python3"
  },
  "language_info": {
   "codemirror_mode": {
    "name": "ipython",
    "version": 3
   },
   "file_extension": ".py",
   "mimetype": "text/x-python",
   "name": "python",
   "nbconvert_exporter": "python",
   "pygments_lexer": "ipython3",
   "version": "3.9.13"
  },
  "vscode": {
   "interpreter": {
    "hash": "858786bfd9d8c000303d93c6d610254ed7301e0ecf0c9249c0ac2f82c9e58291"
   }
  }
 },
 "nbformat": 4,
 "nbformat_minor": 5
}
