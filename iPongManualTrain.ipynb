{
 "cells": [
  {
   "cell_type": "code",
   "execution_count": 1,
   "id": "0facb75f",
   "metadata": {},
   "outputs": [
    {
     "name": "stdout",
     "output_type": "stream",
     "text": [
      "imported\n"
     ]
    }
   ],
   "source": [
    "import pandas\n",
    "import sklearn\n",
    "from sklearn import ensemble\n",
    "from sklearn.model_selection import train_test_split\n",
    "\n",
    "print ('imported')"
   ]
  },
  {
   "cell_type": "code",
   "execution_count": 11,
   "id": "dc3f898e",
   "metadata": {},
   "outputs": [],
   "source": [
    "play_data = pandas.read_table('TrainingQueue.tsv')\n",
    "\n",
    "\n",
    "X = play_data.drop(columns=['MyPaddleVelocity','Unnamed: 9']).dropna()\n",
    "y = play_data['MyPaddleVelocity'].dropna()\n",
    "\n",
    "le = sklearn.preprocessing.LabelEncoder()\n",
    "le.fit(y)\n",
    "y = le.transform(y)\n",
    "\n",
    "\n",
    "X_train, X_test, y_train, y_test = train_test_split(X, y, test_size=0.2)\n",
    "\n",
    "\n",
    "\n"
   ]
  },
  {
   "cell_type": "code",
   "execution_count": 12,
   "id": "73c97256",
   "metadata": {},
   "outputs": [
    {
     "name": "stdout",
     "output_type": "stream",
     "text": [
      "[ 0  0  0  0  0 -4  4  0  0  0  0  0  0 -4  0  0  0  0  0  0  0  0  0  0\n",
      "  0  0 -4  0  4  0  0  0  0  0  0  0  0 -4  0  0 -4  0  0  0  0  0  0  4\n",
      "  0  0  0  0  0  0  0  0  0  0  0  0  0  0  0  0  0  0  0  0  0  0  0  0\n",
      "  4  0  4  4  0  0  0  4  0  0  0  0  0  4  0  0  0 -4  0  0  0  0  0  0\n",
      "  4  4  0  4  0  4  0  0 -4  0  0  0  0  0 -4  0  0  0  0  0  0  0  0  0\n",
      "  4  0  0  0  0  0  0  0  0  0  0  0  0  4  0  0  0 -4  0  0  0  0  4  0\n",
      "  0  0  0  0  0  0  0  0  0  0  4  0  4  0  0  0  0  0  0  0  0  0  0  0\n",
      "  0 -4  0  0  4  0  0  0  0  0  0  0  0  0  0  0  4  0  0  0  0  0  0  0\n",
      "  0  0  0  0  0  4  0 -4  0  0  0  0  0  0  0  0  0  0  0  0 -4  0  0  0\n",
      "  0  0  0  0  0  0  0  0  0  4  0  0  0  4  0  0  0  0  0  0  0  0  0  0\n",
      "  0  0  0  0  0  0  0  0  0  0  0  0  0  0  0  0  0  0  0  0  0  0  0  0\n",
      "  0  0  0  0  0  0  0 -4  0  0  0  0  0  0  0  0  0  0  0 -4  0  0  0  0\n",
      "  0  0  0  0  0  0  0  0  0  0  0  0  0 -4  0  0  0  0  0  0  0  0  0  0\n",
      "  4  0  0  0 -4  0  0  0  0 -4  0  0  0  0  0  0  0  0  0  0  0  0  0  0\n",
      "  0  4 -4  0 -4  0  0  0  0  0  0  4  0  0  0  4 -4  0  0  0  0  0  0  0\n",
      "  0  0  0  0  0  0  0  0  0  0  0  0  0  0  0  0  0  0  0  0  0  0  0  0\n",
      "  0  0  0  0  0  0  0  0  0  0  0  0  0  0  0  0  0  0  0  0  0  0  0  0\n",
      "  0  0  0  0  0  0  0  0  0  0  0  0  4  0  0  0  0  0  0  0  0  0  0  0\n",
      "  0  0  0  0  0  0  0  0  0  0  0  0  0  0  0  0  0  0  0  0  0  0  0  0\n",
      "  0  0  0  0  0  0  0  0  0  0  0  0  0  0  0  0  0  0  0  0  0  0  0  0\n",
      "  0  0  0 -4  0  0 -4  0  0  0  0 -4]\n"
     ]
    }
   ],
   "source": [
    "\n",
    "sk_model = ensemble.RandomForestClassifier()\n",
    "sk_model.fit(X_train, y_train)\n",
    "\n",
    "predictions = sk_model.predict(X_test)\n",
    "\n",
    "print(le.inverse_transform(predictions))\n",
    "\n"
   ]
  },
  {
   "cell_type": "code",
   "execution_count": 13,
   "id": "40b5317c",
   "metadata": {},
   "outputs": [
    {
     "data": {
      "text/plain": [
       "0.18821588273272916"
      ]
     },
     "execution_count": 13,
     "metadata": {},
     "output_type": "execute_result"
    }
   ],
   "source": [
    "score = sklearn.metrics.r2_score(y_test, predictions)\n",
    "score"
   ]
  },
  {
   "cell_type": "code",
   "execution_count": 16,
   "id": "f398b39f",
   "metadata": {},
   "outputs": [],
   "source": [
    "# Convert into ONNX format\n",
    "from skl2onnx import convert_sklearn\n",
    "from skl2onnx.common.data_types import FloatTensorType\n",
    "initial_type = [('float_input', FloatTensorType([None, 4]))]\n",
    "\n",
    "onx = convert_sklearn(sk_model, initial_types=initial_type)\n",
    "with open(\"sk_model.onnx\", \"wb\") as f:\n",
    "    f.write(onx.SerializeToString())"
   ]
  }
 ],
 "metadata": {
  "kernelspec": {
   "display_name": "base",
   "language": "python",
   "name": "python3"
  },
  "language_info": {
   "codemirror_mode": {
    "name": "ipython",
    "version": 3
   },
   "file_extension": ".py",
   "mimetype": "text/x-python",
   "name": "python",
   "nbconvert_exporter": "python",
   "pygments_lexer": "ipython3",
   "version": "3.9.12"
  },
  "vscode": {
   "interpreter": {
    "hash": "e0942d097a3d85f7f7e6db728cda1faec53ae278c49874135db056ee1e5e1978"
   }
  }
 },
 "nbformat": 4,
 "nbformat_minor": 5
}
