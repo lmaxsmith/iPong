{
 "cells": [
  {
   "cell_type": "code",
   "execution_count": 2,
   "id": "0facb75f",
   "metadata": {},
   "outputs": [],
   "source": [
    "import torch\n",
    "from torch.utils.data import DataLoader"
   ]
  }
 ],
 "metadata": {
  "kernelspec": {
   "display_name": "base",
   "language": "python",
   "name": "python3"
  },
  "language_info": {
   "codemirror_mode": {
    "name": "ipython",
    "version": 3
   },
   "file_extension": ".py",
   "mimetype": "text/x-python",
   "name": "python",
   "nbconvert_exporter": "python",
   "pygments_lexer": "ipython3",
   "version": "3.9.13"
  },
  "vscode": {
   "interpreter": {
    "hash": "858786bfd9d8c000303d93c6d610254ed7301e0ecf0c9249c0ac2f82c9e58291"
   }
  }
 },
 "nbformat": 4,
 "nbformat_minor": 5
}
